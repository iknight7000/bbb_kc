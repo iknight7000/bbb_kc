{
 "cells": [
  {
   "cell_type": "markdown",
   "source": [
    "can you generate the sequence \r\n",
    "\r\n",
    "can you add the sum of 2 from the sequence "
   ],
   "metadata": {}
  },
  {
   "cell_type": "code",
   "execution_count": 1,
   "source": [
    "fib = [0,1]"
   ],
   "outputs": [],
   "metadata": {}
  },
  {
   "cell_type": "code",
   "execution_count": 2,
   "source": [
    "for i in range (2, 700):\r\n",
    "    fib.append(fib[i-1] + fib[i - 2])"
   ],
   "outputs": [],
   "metadata": {}
  },
  {
   "cell_type": "markdown",
   "source": [
    "For a given positive integer n determine if it can be represented as a sum of two Fibonacci numbers (possibly equal).\r\n",
    "\r\n",
    "Example\r\n",
    "\r\n",
    "For n = 1, the output should be\r\n",
    "fibonacciSimpleSum2(n) = true.\r\n",
    "\r\n",
    "Explanation: 1 = 0 + 1 = F0 + F1.\r\n",
    "\r\n",
    "For n = 11, the output should be\r\n",
    "fibonacciSimpleSum2(n) = true.\r\n",
    "\r\n",
    "Explanation: 11 = 3 + 8 = F4 + F6.\r\n",
    "\r\n",
    "For n = 60, the output should be\r\n",
    "fibonacciSimpleSum2(n) = true.\r\n",
    "\r\n",
    "Explanation: 60 = 5 + 55 = F5 + F10.\r\n",
    "\r\n",
    "For n = 66, the output should be\r\n",
    "fibonacciSimpleSum2(n) = false.\r\n",
    "\r\n",
    "Input/Output\r\n",
    "\r\n",
    "[execution time limit] 4 seconds (py3)\r\n",
    "\r\n",
    "[input] integer n\r\n",
    "\r\n",
    "Guaranteed constraints:\r\n",
    "1 ≤ n ≤ 2 · 109.\r\n",
    "\r\n",
    "[output] boolean\r\n",
    "\r\n",
    "true if n can be represented as Fi + Fj, false otherwise."
   ],
   "metadata": {}
  },
  {
   "cell_type": "code",
   "execution_count": 3,
   "source": [
    "def sumtwo(n):\r\n",
    "    \"\"\"\r\n",
    "    can n be represented as a sum of two\r\n",
    "\r\n",
    "    \"\"\"\r\n",
    "    fib = [0,1]\r\n",
    "\r\n",
    "    for i in range(len(fib)):\r\n",
    "        if n - fib[i] in fib:\r\n",
    "            return True\r\n",
    "\r\n",
    "\r\n",
    "\r\n",
    "    if n == sum(n1 + n2):\r\n",
    "        return True"
   ],
   "outputs": [],
   "metadata": {}
  },
  {
   "cell_type": "markdown",
   "source": [
    "Two words are blanagrams if they are anagrams but exactly one letter has been substituted for another.\r\n",
    "\r\n",
    "Given two words, check if they are blanagrams of each other.\r\n",
    "\r\n",
    "Example\r\n",
    "\r\n",
    "For word1 = \"tangram\" and word2 = \"anagram\", the output should be\r\n",
    "checkBlanagrams(word1, word2) = true;\r\n",
    "\r\n",
    "After changing the first letter 't' to 'a' in the word1, the words become anagrams.\r\n",
    "\r\n",
    "For word1 = \"tangram\" and word2 = \"pangram\", the output should be\r\n",
    "checkBlanagrams(word1, word2) = true.\r\n",
    "\r\n",
    "Since a word is an anagram of itself (a so-called trivial anagram), we are not obliged to rearrange letters. Only the substitution of a single letter is required for a word to be a blanagram, and here 't' is changed to 'p'.\r\n",
    "\r\n",
    "For word1 = \"aba\" and word2 = \"bab\", the output should be\r\n",
    "checkBlanagrams(word1, word2) = true.\r\n",
    "\r\n",
    "You can take the first letter 'a' of word1 and change it to 'b', obtaining the word \"bba\", which is an anagram of word2 = \"bab\". It is also possible to change the first letter 'b' of word2 to 'a' and obtain \"aab\", which is an anagram of word1 = \"aba\".\r\n",
    "\r\n",
    "For word1 = \"silent\" and word2 = \"listen\", the output should be\r\n",
    "checkBlanagrams(word1, word2) = false.\r\n",
    "\r\n",
    "These two words are anagrams of each other, but no letter substitution was made (the trivial substitution of a letter with itself shouldn't be considered), so they are not blanagrams.\r\n",
    "\r\n",
    "Input/Output\r\n",
    "\r\n",
    "[execution time limit] 4 seconds (py3)\r\n",
    "\r\n",
    "[input] string word1\r\n",
    "\r\n",
    "A string consisting of lowercase letters.\r\n",
    "\r\n",
    "Guaranteed constraints:\r\n",
    "1 ≤ word1.length ≤ 100.\r\n",
    "\r\n",
    "[input] string word2\r\n",
    "\r\n",
    "A string consisting of lowercase letters.\r\n",
    "\r\n",
    "Guaranteed constraints:\r\n",
    "word2.length = word1.length.\r\n",
    "\r\n",
    "[output] boolean\r\n",
    "\r\n",
    "Return true if word1 and word2 are blanagrams of each other, otherwise return false."
   ],
   "metadata": {}
  },
  {
   "cell_type": "code",
   "execution_count": 7,
   "source": [
    "word1 = \"aba\"\r\n",
    "word2 = \"bab\"\r\n",
    "word3 = \"silent\"\r\n",
    "word4 = \"listen\""
   ],
   "outputs": [],
   "metadata": {}
  },
  {
   "cell_type": "code",
   "execution_count": 84,
   "source": [
    "def checkBlanagrams(word1, word2):\r\n",
    "    \"\"\"\r\n",
    "    This function checks to see if 2 words\r\n",
    "    are anagrams, If they are anagrams,\r\n",
    "    a False statement is returned, if they they are\r\n",
    "    not a true statement is returned. \r\n",
    "    \"\"\"\r\n",
    "    # if the two sorted words are not the same length return false\r\n",
    "    if len(word1) != len(word2):\r\n",
    "        return False\r\n",
    "    # if the two sorted words are the same return False \r\n",
    "    if sorted(word1) == sorted(word2):\r\n",
    "        return False \r\n",
    "    else: \r\n",
    "        return True\r\n",
    "    \r\n"
   ],
   "outputs": [],
   "metadata": {}
  },
  {
   "cell_type": "code",
   "execution_count": 85,
   "source": [
    "checkBlanagrams(word1, word2)\r\n"
   ],
   "outputs": [
    {
     "output_type": "execute_result",
     "data": {
      "text/plain": [
       "True"
      ]
     },
     "metadata": {},
     "execution_count": 85
    }
   ],
   "metadata": {}
  },
  {
   "cell_type": "code",
   "execution_count": 86,
   "source": [
    "checkBlanagrams(word3, word4)"
   ],
   "outputs": [
    {
     "output_type": "execute_result",
     "data": {
      "text/plain": [
       "False"
      ]
     },
     "metadata": {},
     "execution_count": 86
    }
   ],
   "metadata": {}
  }
 ],
 "metadata": {
  "orig_nbformat": 4,
  "language_info": {
   "name": "python",
   "version": "3.9.2",
   "mimetype": "text/x-python",
   "codemirror_mode": {
    "name": "ipython",
    "version": 3
   },
   "pygments_lexer": "ipython3",
   "nbconvert_exporter": "python",
   "file_extension": ".py"
  },
  "kernelspec": {
   "name": "python3",
   "display_name": "Python 3.9.2 64-bit"
  },
  "interpreter": {
   "hash": "b6aa737f36c5d93b6cbe8b742cd1c1391a187201e6ed0bc134578f07fcbe3de9"
  }
 },
 "nbformat": 4,
 "nbformat_minor": 2
}